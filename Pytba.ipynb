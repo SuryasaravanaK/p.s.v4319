{
 "cells": [
  {
   "cell_type": "code",
   "execution_count": 1,
   "metadata": {},
   "outputs": [
    {
     "name": "stdout",
     "output_type": "stream",
     "text": [
      "This is non parametrized constructor\n",
      "Hello John\n"
     ]
    }
   ],
   "source": [
    "class Student:  \n",
    "    # Constructor - non parameterized  \n",
    "    def __init__(self):  \n",
    "        print(\"This is non parametrized constructor\")  \n",
    "    def show(self,name):  \n",
    "        print(\"Hello\",name)  \n",
    "student = Student()  \n",
    "student.show(\"John\")    "
   ]
  },
  {
   "cell_type": "code",
   "execution_count": 2,
   "metadata": {},
   "outputs": [
    {
     "name": "stdout",
     "output_type": "stream",
     "text": [
      "1000\n",
      "500\n"
     ]
    }
   ],
   "source": [
    "class BankAccount:\n",
    "    def __init__(self, account_number, balance):\n",
    "        self.__account_number = account_number  # Private attribute\n",
    "        self.__balance = balance  # Private attribute\n",
    "\n",
    "    def get_balance(self):  # Getter method\n",
    "        return self.__balance\n",
    "\n",
    "    def deposit(self, amount):\n",
    "        if amount > 0:\n",
    "            self.__balance += amount\n",
    "\n",
    "    def withdraw(self, amount):\n",
    "        if amount > 0 and amount <= self.__balance:\n",
    "            self.__balance -= amount\n",
    "\n",
    "# Usage\n",
    "account = BankAccount(\"123456\", 1000)\n",
    "print(account.get_balance())  # Accessing balance through a method\n",
    "account.withdraw(500)  # Modifying balance through a method\n",
    "print(account.get_balance())\n"
   ]
  },
  {
   "cell_type": "code",
   "execution_count": null,
   "metadata": {},
   "outputs": [],
   "source": []
  },
  {
   "cell_type": "markdown",
   "metadata": {},
   "source": [
    "In this example, BankAccount encapsulates the account number and balance as private attributes and provides controlled access to them through getter and setter methods. This encapsulation ensures that the internal state of the account is protected and accessed only through well-defined methods."
   ]
  },
  {
   "cell_type": "code",
   "execution_count": 3,
   "metadata": {},
   "outputs": [
    {
     "name": "stdout",
     "output_type": "stream",
     "text": [
      "Name: Alice\n",
      "Age: 20\n",
      "Sex: Female\n",
      "Department: Computer Science\n",
      "College: XYZ University\n",
      "Hello, I am Alice, and I am 20 years old. Welcome to my home.\n",
      "I am Alice, studying in XYZ University, in the Computer Science department.\n"
     ]
    }
   ],
   "source": [
    "class Human:\n",
    "    def __init__(self, name='Kavin', age=35, sex='Male'):\n",
    "        self.__name = name  # Private attribute\n",
    "        self.__age = age    # Private attribute\n",
    "        self.__sex = sex    # Private attribute\n",
    "\n",
    "    # Getter methods\n",
    "    def get_name(self):\n",
    "        return self.__name\n",
    "\n",
    "    def get_age(self):\n",
    "        return self.__age\n",
    "\n",
    "    def get_sex(self):\n",
    "        return self.__sex\n",
    "\n",
    "    def greet(self):\n",
    "        print(f\"Hello, I am {self.__name}, and I am {self.__age} years old. Welcome to my home.\")\n",
    "\n",
    "class Student(Human):\n",
    "    def __init__(self, name, age, sex, department, college):\n",
    "        super().__init__(name, age, sex)\n",
    "        self.__department = department  # Private attribute\n",
    "        self.__college = college        # Private attribute\n",
    "\n",
    "    # Getter methods specific to Student\n",
    "    def get_department(self):\n",
    "        return self.__department\n",
    "\n",
    "    def get_college(self):\n",
    "        return self.__college\n",
    "\n",
    "    def intro(self):\n",
    "        print(f\"I am {self.get_name()}, studying in {self.__college}, in the {self.__department} department.\")\n",
    "\n",
    "# Example usage:\n",
    "student = Student(name=\"Alice\", age=20, sex=\"Female\", department=\"Computer Science\", college=\"XYZ University\")\n",
    "\n",
    "# Accessing attributes through getter methods\n",
    "print(\"Name:\", student.get_name())\n",
    "print(\"Age:\", student.get_age())\n",
    "print(\"Sex:\", student.get_sex())\n",
    "print(\"Department:\", student.get_department())\n",
    "print(\"College:\", student.get_college())\n",
    "\n",
    "# Calling methods\n",
    "student.greet()\n",
    "student.intro()\n"
   ]
  },
  {
   "cell_type": "markdown",
   "metadata": {},
   "source": [
    "# Polymorphism"
   ]
  },
  {
   "cell_type": "markdown",
   "metadata": {},
   "source": [
    "Polymorphism is one of the four fundamental principles of object-oriented programming (OOP), along with encapsulation, inheritance, and abstraction. It is a concept that allows objects of different classes to be treated as objects of a common superclass. In essence, polymorphism enables objects to take on multiple forms.\n",
    "\n",
    "There are two main types of polymorphism in OOP:\n",
    "\n",
    "    Compile-time Polymorphism (Static Binding or Early Binding):\n",
    "        Also known as method overloading.\n",
    "        Occurs when you have multiple methods in the same class with the same name but different parameters (different method signatures).\n",
    "        The correct method to invoke is determined at compile time based on the method's signature and the arguments provided.\n",
    "        Examples of compile-time polymorphism include function overloading in C++ or Java.\n",
    "\n",
    "    Run-time Polymorphism (Dynamic Binding or Late Binding):\n",
    "        Also known as method overriding.\n",
    "        Occurs when a subclass provides a specific implementation of a method that is already defined in its superclass.\n",
    "        The decision of which method to call is made at runtime based on the actual object type (dynamic type) rather than the reference type.\n",
    "        Run-time polymorphism is a key feature of inheritance and allows you to achieve \"one interface, multiple implementations.\"\n",
    "        Examples of run-time polymorphism include method overriding in Java and C#."
   ]
  },
  {
   "cell_type": "code",
   "execution_count": 4,
   "metadata": {},
   "outputs": [
    {
     "name": "stdout",
     "output_type": "stream",
     "text": [
      "Woof!\n",
      "Meow!\n"
     ]
    }
   ],
   "source": [
    "class Animal:\n",
    "    def speak(self):\n",
    "        pass\n",
    "\n",
    "class Dog(Animal):\n",
    "    def speak(self):\n",
    "        return \"Woof!\"\n",
    "\n",
    "class Cat(Animal):\n",
    "    def speak(self):\n",
    "        return \"Meow!\"\n",
    "\n",
    "# Polymorphic function\n",
    "def animal_sound(animal):\n",
    "    return animal.speak()\n",
    "\n",
    "# Create instances\n",
    "dog = Dog()\n",
    "cat = Cat()\n",
    "\n",
    "# Call the polymorphic function with different objects\n",
    "print(animal_sound(dog))  # Output: \"Woof!\"\n",
    "print(animal_sound(cat))  # Output: \"Meow!\"\n"
   ]
  },
  {
   "cell_type": "code",
   "execution_count": 5,
   "metadata": {},
   "outputs": [
    {
     "name": "stdout",
     "output_type": "stream",
     "text": [
      "Alice Bob\n"
     ]
    }
   ],
   "source": [
    "class Human:\n",
    "    def __init__(self, name='Kavin', age=35, sex='Male'):\n",
    "        self.name = name\n",
    "        self.age = age\n",
    "        self.sex = sex\n",
    "\n",
    "    def greet(self):\n",
    "        print(f\"Hello, I am {self.name}, and I am {self.age} years old. Welcome to my home.\")\n",
    "\n",
    "    def __str__(self):\n",
    "        return self.name\n",
    "\n",
    "    def __add__(self, other):\n",
    "        if isinstance(other, Human):\n",
    "            # If 'other' is also a Human object, concatenate the names\n",
    "            combined_name = f\"{self.name} {other.name}\"\n",
    "            return Human(name=combined_name)\n",
    "        elif isinstance(other, Student):\n",
    "            # If 'other' is a Student object, concatenate Student's name with Human's name\n",
    "            combined_name = f\"{self.name} {other.get_name()}\"\n",
    "            return Human(name=combined_name)\n",
    "        else:\n",
    "            raise ValueError(\"Invalid operand type\")\n",
    "class Student(Human):\n",
    "    def __init__(self, name, age, sex, department, college):\n",
    "        super().__init__(name, age, sex)\n",
    "        self.department = department\n",
    "        self.college = college\n",
    "\n",
    "    def intro(self):\n",
    "        print(f\"I am {self.name}, studying in {self.college}, in the {self.department} department.\")\n",
    "\n",
    "    def get_name(self):\n",
    "        return self.name\n",
    "\n",
    "# Example usage:\n",
    "human1 = Human(name=\"Alice\", age=25, sex=\"Female\")\n",
    "student1 = Student(name=\"Bob\", age=20, sex=\"Male\", department=\"Computer Science\", college=\"XYZ University\")\n",
    "\n",
    "# Operator overloading for concatenating names\n",
    "combined = human1 + student1\n",
    "print(combined)  # Output: \"Alice Bob\"\n"
   ]
  },
  {
   "cell_type": "markdown",
   "metadata": {},
   "source": [
    "To demonstrate operator overloading and method overriding using the Human class and the Student subclass, we'll create a custom operator + for concatenating the names of two individuals (either two Human objects or a Human and a Student object). Additionally, we'll override the __str__ method to provide a custom string representation for the combined names."
   ]
  },
  {
   "cell_type": "markdown",
   "metadata": {},
   "source": [
    "In this example, we've done the following:\n",
    "\n",
    "    Defined a custom + operator using the __add__ method in the Human class. This method checks the type of the other object and concatenates the names accordingly.\n",
    "\n",
    "    Overridden the __str__ method in the Human class to provide a custom string representation of the object (just the name in this case).\n",
    "\n",
    "    Provided a get_name method in the Student class to retrieve the name for use in the + operator.\n",
    "\n",
    "Now, you can concatenate the names of a Human and a Student object using the + operator, and it will return a new Human object with the combined name."
   ]
  }
 ],
 "metadata": {
  "kernelspec": {
   "display_name": "Python 3",
   "language": "python",
   "name": "python3"
  },
  "language_info": {
   "codemirror_mode": {
    "name": "ipython",
    "version": 3
   },
   "file_extension": ".py",
   "mimetype": "text/x-python",
   "name": "python",
   "nbconvert_exporter": "python",
   "pygments_lexer": "ipython3",
   "version": "3.11.4"
  },
  "orig_nbformat": 4
 },
 "nbformat": 4,
 "nbformat_minor": 2
}
