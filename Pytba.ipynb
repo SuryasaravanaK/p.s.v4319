{
 "cells": [
  {
   "cell_type": "code",
   "execution_count": 1,
   "metadata": {},
   "outputs": [
    {
     "name": "stdout",
     "output_type": "stream",
     "text": [
      "hello world\n"
     ]
    }
   ],
   "source": [
    "print(\"hello world\")"
   ]
  },
  {
   "cell_type": "markdown",
   "metadata": {},
   "source": [
    "# Variables"
   ]
  },
  {
   "cell_type": "code",
   "execution_count": 1,
   "metadata": {},
   "outputs": [
    {
     "name": "stdout",
     "output_type": "stream",
     "text": [
      "5 <class 'int'> 140722374763432\n"
     ]
    }
   ],
   "source": [
    "a= 5\n",
    "print(a, type(a), id(a))"
   ]
  },
  {
   "cell_type": "code",
   "execution_count": 2,
   "metadata": {},
   "outputs": [
    {
     "name": "stdout",
     "output_type": "stream",
     "text": [
      "10 10 10 <class 'int'> <class 'int'> <class 'int'> 140722374763592 140722374763592 140722374763592\n"
     ]
    }
   ],
   "source": [
    "a = b = c = 10\n",
    "print(a,b,c, type(a), type(b), type(c), id(a), id(b), id(c))"
   ]
  },
  {
   "cell_type": "code",
   "execution_count": 6,
   "metadata": {},
   "outputs": [
    {
     "name": "stdout",
     "output_type": "stream",
     "text": [
      "10 <class 'int'> 140722374763592\n",
      "10.0 <class 'float'> 2580461380976\n"
     ]
    }
   ],
   "source": [
    "a = 10\n",
    "print(a, type(a), id(a))\n",
    "a = 10.0\n",
    "print(a, type(a), id(a))"
   ]
  },
  {
   "cell_type": "code",
   "execution_count": 7,
   "metadata": {},
   "outputs": [
    {
     "name": "stdout",
     "output_type": "stream",
     "text": [
      "257\n"
     ]
    }
   ],
   "source": [
    "a=123\n",
    "b=134\n",
    "c=a+b\n",
    "print(c)"
   ]
  },
  {
   "cell_type": "code",
   "execution_count": 16,
   "metadata": {},
   "outputs": [
    {
     "name": "stdout",
     "output_type": "stream",
     "text": [
      "k. aiyrus anavaras\n"
     ]
    }
   ],
   "source": [
    "s = 'saravana suryia .k'\n",
    "print(s[::-1])"
   ]
  },
  {
   "cell_type": "code",
   "execution_count": 19,
   "metadata": {},
   "outputs": [
    {
     "name": "stdout",
     "output_type": "stream",
     "text": [
      "k.ita\n"
     ]
    }
   ],
   "source": [
    "s = 'karthic. k'\n",
    "print(s[::-2])"
   ]
  },
  {
   "cell_type": "code",
   "execution_count": 20,
   "metadata": {},
   "outputs": [
    {
     "name": "stdout",
     "output_type": "stream",
     "text": [
      "finish\n"
     ]
    }
   ],
   "source": [
    "a = 5.0\n",
    "if type(a) is int:\n",
    "    print(' a is an integer')\n",
    "    if a==1:\n",
    "        print(\"A is 1\")\n",
    "    elif a==2:\n",
    "        print(\"a is 2\")\n",
    "    elif a==3:\n",
    "        print(\"a is 3\")\n",
    "    elif a==4:\n",
    "        print(\"a is 4\")\n",
    "    elif a==5:\n",
    "        print(\"a is 5\")\n",
    "    elif a==6:\n",
    "        print(\"a is 6\")\n",
    "    elif a==7:\n",
    "        print(\"a is 7\")\n",
    "    else:\n",
    "        print('End')\n",
    "else:\n",
    "    print('finish')"
   ]
  },
  {
   "cell_type": "code",
   "execution_count": 21,
   "metadata": {},
   "outputs": [
    {
     "name": "stdout",
     "output_type": "stream",
     "text": [
      "wednesday\n",
      "saturday\n",
      "Invalid day number\n"
     ]
    }
   ],
   "source": [
    "def weekday(n):\n",
    "   match n:\n",
    "      case 0: return \"sunday\"\n",
    "      case 1: return \"monday\"\n",
    "      case 2: return \"Tuesday\"\n",
    "      case 3: return \"wednesday\"\n",
    "      case 4: return \"Thusday\"\n",
    "      case 5: return \"friday\"\n",
    "      case 6: return \"saturday\"\n",
    "      case _: return \"Invalid day number\"\n",
    "print (weekday(3))\n",
    "print (weekday(6))\n",
    "print (weekday(7))"
   ]
  },
  {
   "cell_type": "code",
   "execution_count": 26,
   "metadata": {},
   "outputs": [
    {
     "name": "stdout",
     "output_type": "stream",
     "text": [
      "a is 97\n"
     ]
    }
   ],
   "source": [
    "a = 97\n",
    "if a==91:\n",
    "    print(\"A is 91\")\n",
    "elif a==92:\n",
    "    print(\"a is 92\")\n",
    "elif a==93:\n",
    "    print(\"a is 93\")\n",
    "elif a==94:\n",
    "    print(\"a is 94\")\n",
    "elif a==95:\n",
    "    print(\"a is 95\")\n",
    "elif a==96:\n",
    "    print(\"a is 96\")\n",
    "elif a==97:\n",
    "    print(\"a is 97\")\n",
    "else:\n",
    "    print('End')"
   ]
  },
  {
   "cell_type": "code",
   "execution_count": 3,
   "metadata": {},
   "outputs": [
    {
     "name": "stdout",
     "output_type": "stream",
     "text": [
      "1\n",
      "2\n",
      "3\n",
      "4\n",
      "5\n",
      "6\n",
      "6\n",
      "4\n",
      "5\n",
      "3\n",
      "434\n"
     ]
    }
   ],
   "source": [
    "a = [1,2,3,4,5,6,6,4,5,3,434]\n",
    "for i in a:\n",
    "    print(i)"
   ]
  },
  {
   "cell_type": "code",
   "execution_count": null,
   "metadata": {},
   "outputs": [],
   "source": []
  },
  {
   "cell_type": "code",
   "execution_count": null,
   "metadata": {},
   "outputs": [],
   "source": []
  },
  {
   "cell_type": "code",
   "execution_count": null,
   "metadata": {},
   "outputs": [],
   "source": []
  },
  {
   "cell_type": "code",
   "execution_count": null,
   "metadata": {},
   "outputs": [],
   "source": []
  },
  {
   "cell_type": "code",
   "execution_count": null,
   "metadata": {},
   "outputs": [],
   "source": []
  },
  {
   "cell_type": "code",
   "execution_count": null,
   "metadata": {},
   "outputs": [],
   "source": []
  }
 ],
 "metadata": {
  "kernelspec": {
   "display_name": "Python 3",
   "language": "python",
   "name": "python3"
  },
  "language_info": {
   "codemirror_mode": {
    "name": "ipython",
    "version": 3
   },
   "file_extension": ".py",
   "mimetype": "text/x-python",
   "name": "python",
   "nbconvert_exporter": "python",
   "pygments_lexer": "ipython3",
   "version": "3.11.5"
  },
  "orig_nbformat": 4
 },
 "nbformat": 4,
 "nbformat_minor": 2
}
